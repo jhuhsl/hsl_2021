{
 "cells": [
  {
   "cell_type": "code",
   "execution_count": 7,
   "metadata": {},
   "outputs": [],
   "source": [
    "import numpy as np\n",
    "import matplotlib.pyplot as plt\n",
    "import pandas as pd\n",
    "import os\n",
    "import glob\n",
    "from pathlib import Path\n",
    "from collections import namedtuple\n",
    "from scipy import stats\n",
    "import math\n",
    "import re\n",
    "\n",
    "#Prevents pandas from truncating data\n",
    "pd.set_option('display.max_rows', None)\n",
    "pd.set_option('display.max_columns', None)\n",
    "pd.set_option('display.width', None)\n",
    "pd.set_option('display.max_colwidth', None)\n",
    "\n",
    "%matplotlib inline"
   ]
  },
  {
   "cell_type": "code",
   "execution_count": 53,
   "metadata": {},
   "outputs": [],
   "source": [
    "#Finds pixel density, distance from screen, number of trials,, angles\n",
    "\n",
    "def process_VAN_file(in_fpath):\n",
    "    angleVAN = 0\n",
    "    angleVANStd = 0\n",
    "    pixelsPerInch = 0\n",
    "    distanceInches = 0\n",
    "    trials = 0\n",
    "    data = pd.read_csv(in_fpath, skiprows=3, delim_whitespace=True,skipinitialspace=True)\n",
    "    \n",
    "    #finding the pixels per inch\n",
    "    for line in open(in_fpath): \n",
    "        match = re.search('pix_per_inch:(\\d+)', line) #finds pixels per inch\n",
    "        if match:\n",
    "            pixelsPerInch = int(match.group(1))\n",
    "\n",
    "# Finding the distance from the tablet\n",
    "# This will be changed once distance is part of the code\n",
    "#     for line in open(in_fpath):\n",
    "#         match = re.search('', line)\n",
    "#         if match:\n",
    "#             distanceInches = int(match.group(1))\n",
    "    \n",
    "    #finding the number of trials\n",
    "    trials = len(open(in_fpath).readlines(  )) - 4 #This will need to be changed if the number of lines before the trials\n",
    "    \n",
    "    #this takes all the YEnd values and puts them into a series\n",
    "    for column in data[['YEnd']]:\n",
    "        pixelHeight = data[column] \n",
    "    \n",
    "    #finding average vertical misalignment\n",
    "    pixelAvg = pixelHeight.sum()/trials #finds average final pixel height (YEnd)\n",
    "    angleVAN = 180/math.pi * np.arctan((pixelAvg/10)/pixelsPerInch) # I set distance to 10, as the distance wasn't in the data\n",
    "    \n",
    "    #finding standard deviation of vertical misalignment\n",
    "        #should I include negative values for std, or should I take the absolute value?\n",
    "    pixelStd = pixelHeight.std() # this is the sample standard deviation\n",
    "    angleVANStd = 180/math.pi * np.arctan((pixelStd/10)/pixelsPerInch) #this will give a different value from what was calculated, as I found the std of the pixels before converting this time"
   ]
  },
  {
   "cell_type": "code",
   "execution_count": 52,
   "metadata": {},
   "outputs": [
    {
     "name": "stdout",
     "output_type": "stream",
     "text": [
      "0.049822404410268334\n",
      "0.045105540671153826\n"
     ]
    }
   ],
   "source": [
    "# This is to test stuff\n",
    "data = pd.read_csv('Arjun-Data/Arjun Y lenses baseline 1_baseline_2021-03-13_21-04-01_VAN-Sitting_VER2.txt', skiprows=3, delim_whitespace=True,skipinitialspace=True)\n",
    "angleVAN = 0\n",
    "angleVANStd = 0\n",
    "pixelsPerInch = 0\n",
    "trials = 0\n",
    "for line in open('Arjun-Data/Arjun Y lenses baseline 1_baseline_2021-03-13_21-04-01_VAN-Sitting_VER2.txt'): \n",
    "        match = re.search('pix_per_inch:(\\d+)', line) #finds pixels per inch\n",
    "        if match:\n",
    "            pixelsPerInch = int(match.group(1))\n",
    "\n",
    "trials = len(open('Arjun-Data/Arjun Y lenses baseline 1_baseline_2021-03-13_21-04-01_VAN-Sitting_VER2.txt').readlines(  )) - 4 \n",
    "\n",
    "for column in data[['YEnd']]:\n",
    "    pixelHeight = data[column] # I set this to 10, as the distance wasn't in the data\n",
    "pixelSum = pixelHeight.sum()/trials\n",
    "angleVAN = 180/math.pi * np.arctan((pixelSum/10)/pixelsPerInch)\n",
    "print(angleVAN)\n",
    "pixelStd = pixelHeight.std() # this is the sample standard deviation\n",
    "angleVANStd = 180/math.pi * np.arctan((pixelStd/10)/pixelsPerInch)\n",
    "print(angleVANStd) # this value is different from what was calculated before"
   ]
  },
  {
   "cell_type": "code",
   "execution_count": null,
   "metadata": {},
   "outputs": [],
   "source": []
  }
 ],
 "metadata": {
  "kernelspec": {
   "display_name": "Python 3",
   "language": "python",
   "name": "python3"
  },
  "language_info": {
   "codemirror_mode": {
    "name": "ipython",
    "version": 3
   },
   "file_extension": ".py",
   "mimetype": "text/x-python",
   "name": "python",
   "nbconvert_exporter": "python",
   "pygments_lexer": "ipython3",
   "version": "3.8.3"
  }
 },
 "nbformat": 4,
 "nbformat_minor": 4
}
