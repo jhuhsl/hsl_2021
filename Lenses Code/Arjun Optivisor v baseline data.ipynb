{
 "cells": [
  {
   "cell_type": "code",
   "execution_count": 1,
   "metadata": {},
   "outputs": [],
   "source": [
    "import numpy as np\n",
    "import matplotlib.pyplot as plt\n",
    "import pandas as pd\n",
    "import os\n",
    "import glob\n",
    "from pathlib import Path\n",
    "from collections import namedtuple\n",
    "from scipy import stats\n",
    "\n",
    "#Prevents pandas from truncating data\n",
    "pd.set_option('display.max_rows', None)\n",
    "pd.set_option('display.max_columns', None)\n",
    "pd.set_option('display.width', None)\n",
    "pd.set_option('display.max_colwidth', None)\n",
    "\n",
    "%matplotlib inline"
   ]
  },
  {
   "cell_type": "code",
   "execution_count": 4,
   "metadata": {},
   "outputs": [],
   "source": [
    "#hard coding file pathways for first 2 tests (both VAN and TAN) for baseline and optivisor to variables\n",
    "base1VAN = pd.read_csv('Arjun-Data/Arjun Y lenses baseline 1_baseline_2021-03-13_21-04-01_VAN-Sitting_VER2.txt', skiprows=3, delim_whitespace=True,skipinitialspace=True)\n",
    "base1TAN = pd.read_csv('Arjun-Data/Arjun Y lenses baseline 1_baseline_2021-03-13_21-04-59_TAN-Sitting_VER2.txt', skiprows=3, delim_whitespace=True,skipinitialspace=True)\n",
    "base2VAN = pd.read_csv('Arjun-Data/Arjun Y lenses baseline 2_baseline_2021-03-13_21-06-52_VAN-Sitting_VER2.txt', skiprows=3, delim_whitespace=True,skipinitialspace=True)\n",
    "base2TAN = pd.read_csv('Arjun-Data/Arjun Y lenses baseline 2_baseline_2021-03-13_21-07-42_TAN-Sitting_VER2.txt', skiprows=3, delim_whitespace=True,skipinitialspace=True)\n",
    "\n",
    "opti1VAN = pd.read_csv('Arjun-Data/Arjun Y lenses optivisor 1_baseline_2021-03-13_21-35-01_VAN-Sitting_VER2.txt', skiprows=3, delim_whitespace=True,skipinitialspace=True)\n",
    "opti1TAN = pd.read_csv('Arjun-Data/Arjun Y lenses optivisor 1_baseline_2021-03-13_21-35-54_TAN-Sitting_VER2.txt', skiprows=3, delim_whitespace=True,skipinitialspace=True)\n",
    "opti2VAN = pd.read_csv('Arjun-Data/Arjun Y lenses optivisor 2_baseline_2021-03-13_21-36-58_VAN-Sitting_VER2.txt', skiprows=3, delim_whitespace=True,skipinitialspace=True)\n",
    "opti2TAN = pd.read_csv('Arjun-Data/Arjun Y lenses optivisor 2_baseline_2021-03-13_21-37-48_TAN-Sitting_VER2.txt', skiprows=3, delim_whitespace=True,skipinitialspace=True)"
   ]
  },
  {
   "cell_type": "code",
   "execution_count": 15,
   "metadata": {},
   "outputs": [],
   "source": [
    "#Defines the participant names, and arrays (?) for the final stats (RMS = root mean square)\n",
    "names = [\"Arjun\"]\n",
    "tests = [\"baseline\", \"optivisor\"]\n",
    "\n",
    "#creating a library of all the values I need for the table so I don't have to print stuff individually\n",
    "\n",
    "baseStats = {'YEnd Means': [base1VAN['YEnd'].mean(), base2VAN['YEnd'].mean()],\n",
    "             'YEnd SD': [base1VAN['YEnd'].std(), base2VAN['YEnd'].std()],\n",
    "             'YEnd Final Mean': 0,'YEnd Final SD': 0,\n",
    "             'AngEnd Means': [base1TAN['AngEnd'].mean(), base2TAN['AngEnd'].mean()], \n",
    "             'AngEnd SD': [base1TAN['AngEnd'].std(), base2TAN['AngEnd'].std()],\n",
    "             'AngEnd Final Mean': 0, 'AngEnd Final SD': 0}\n",
    "optiStats = {'YEnd Means': [opti1VAN['YEnd'].mean(), opti2VAN['YEnd'].mean()], \n",
    "             'YEnd SD': [opti1VAN['YEnd'].std(), opti2VAN['YEnd'].std()],\n",
    "             'YEnd Final Mean': 0,'YEnd Final SD': 0, \n",
    "             'AngEnd Means': [opti1TAN['AngEnd'].mean(), opti2TAN['AngEnd'].mean()],\n",
    "             'AngEnd SD': [opti1TAN['AngEnd'].std(), opti2TAN['AngEnd'].std()],\n",
    "             'AngEnd Final Mean': 0, 'AngEnd Final SD': 0}\n",
    "\n",
    "#Finding root means square values for YEnd and AngEnd for both baseline and optivisor\n",
    "baseStats['YEnd Final Mean'] = np.mean(baseStats['YEnd Means'])\n",
    "baseStats['AngEnd Final Mean'] = np.mean(baseStats['AngEnd Means'])\n",
    "\n",
    "optiStats['YEnd Final Mean'] = np.mean(optiStats['YEnd Means'])\n",
    "optiStats['AngEnd Final Mean'] = np.mean(optiStats['AngEnd Means'])\n",
    "\n",
    "#Finding the final standard deviation based on the means of each trial\n",
    "baseStats['YEnd Final SD'] = np.std(baseStats['YEnd Means'])\n",
    "baseStats['AngEnd Final SD'] = np.std(baseStats['AngEnd Means'])\n",
    "\n",
    "optiStats['YEnd Final SD'] = np.std(optiStats['YEnd Means'])\n",
    "optiStats['AngEnd Final SD'] = np.std(optiStats['AngEnd Means'])\n",
    "\n",
    "#defining the dataframes to later print as tables\n",
    "data1 = pd.DataFrame(data = baseStats)\n",
    "data2 = pd.DataFrame(data = optiStats)"
   ]
  },
  {
   "cell_type": "markdown",
   "metadata": {},
   "source": [
    "## Variable Descriptions\n",
    "YEnd Means: Mean YEnd value for each trial (using VAN tests)\n",
    "<br>AngEnd Means: Mean AngEnd value for each trial (using TAN tests)\n",
    "<br>YEnd SD: Standard deviation of YEnd for each trial (using VAN tests)\n",
    "<br>AngEnd SD: Standard deviation of AngEnd for each trial (using TAN tests)\n",
    "<br>YEnd RMS: Gives the root mean squared of YEnd for all trials (using VAN tests)\n",
    "<br>AngEnd RMS: Gives the root mean squared of AngEnd for all trials (using TAN tests)\n",
    "<br>YEnd Final SD: Gives the standard deviation of the YEnd means for all trials (using VAN tests)\n",
    "<br>AngEnd Final SD: Give the standard deviation of the AngEnd means for all trials (using TAN tests)"
   ]
  },
  {
   "cell_type": "code",
   "execution_count": 18,
   "metadata": {},
   "outputs": [
    {
     "name": "stdout",
     "output_type": "stream",
     "text": [
      "Arjun\n",
      "baseline\n"
     ]
    },
    {
     "data": {
      "text/html": [
       "<div>\n",
       "<style scoped>\n",
       "    .dataframe tbody tr th:only-of-type {\n",
       "        vertical-align: middle;\n",
       "    }\n",
       "\n",
       "    .dataframe tbody tr th {\n",
       "        vertical-align: top;\n",
       "    }\n",
       "\n",
       "    .dataframe thead th {\n",
       "        text-align: right;\n",
       "    }\n",
       "</style>\n",
       "<table border=\"1\" class=\"dataframe\">\n",
       "  <thead>\n",
       "    <tr style=\"text-align: right;\">\n",
       "      <th></th>\n",
       "      <th>YEnd Means</th>\n",
       "      <th>YEnd SD</th>\n",
       "      <th>YEnd Final Mean</th>\n",
       "      <th>YEnd Final SD</th>\n",
       "      <th>AngEnd Means</th>\n",
       "      <th>AngEnd SD</th>\n",
       "      <th>AngEnd Final Mean</th>\n",
       "      <th>AngEnd Final SD</th>\n",
       "    </tr>\n",
       "  </thead>\n",
       "  <tbody>\n",
       "    <tr>\n",
       "      <th>0</th>\n",
       "      <td>1.8</td>\n",
       "      <td>1.629588</td>\n",
       "      <td>2.1</td>\n",
       "      <td>0.3</td>\n",
       "      <td>0.14</td>\n",
       "      <td>0.287518</td>\n",
       "      <td>0.325</td>\n",
       "      <td>0.185</td>\n",
       "    </tr>\n",
       "    <tr>\n",
       "      <th>1</th>\n",
       "      <td>2.4</td>\n",
       "      <td>1.105542</td>\n",
       "      <td>2.1</td>\n",
       "      <td>0.3</td>\n",
       "      <td>0.51</td>\n",
       "      <td>0.310734</td>\n",
       "      <td>0.325</td>\n",
       "      <td>0.185</td>\n",
       "    </tr>\n",
       "  </tbody>\n",
       "</table>\n",
       "</div>"
      ],
      "text/plain": [
       "   YEnd Means   YEnd SD  YEnd Final Mean  YEnd Final SD  AngEnd Means  \\\n",
       "0         1.8  1.629588              2.1            0.3          0.14   \n",
       "1         2.4  1.105542              2.1            0.3          0.51   \n",
       "\n",
       "   AngEnd SD  AngEnd Final Mean  AngEnd Final SD  \n",
       "0   0.287518              0.325            0.185  \n",
       "1   0.310734              0.325            0.185  "
      ]
     },
     "execution_count": 18,
     "metadata": {},
     "output_type": "execute_result"
    }
   ],
   "source": [
    "print(names[0])\n",
    "print(tests[0])\n",
    "data1\n",
    "\n",
    "# serena comments:\n",
    "    # table looks really great! \n",
    "    # based on all the papers it seems like they just go with regular mean and SD, so you can get rid of the RMS and stuff (done)\n",
    "    # what is 0 and 1, try to specify the row nams\n",
    "    # everything else looks good, add a couple more lines to include the rest of your data so we can look at everything together\n",
    "    \n",
    "#Keep YEnd means, yend sd, yend final mean, yend final sd, angend means, angends sd, angend final mean, angend final sd (done)\n",
    "#extra table: baseline is first row and optivisor is second row; for each column: final means and sd"
   ]
  },
  {
   "cell_type": "code",
   "execution_count": 19,
   "metadata": {},
   "outputs": [
    {
     "name": "stdout",
     "output_type": "stream",
     "text": [
      "Arjun\n",
      "optivisor\n"
     ]
    },
    {
     "data": {
      "text/html": [
       "<div>\n",
       "<style scoped>\n",
       "    .dataframe tbody tr th:only-of-type {\n",
       "        vertical-align: middle;\n",
       "    }\n",
       "\n",
       "    .dataframe tbody tr th {\n",
       "        vertical-align: top;\n",
       "    }\n",
       "\n",
       "    .dataframe thead th {\n",
       "        text-align: right;\n",
       "    }\n",
       "</style>\n",
       "<table border=\"1\" class=\"dataframe\">\n",
       "  <thead>\n",
       "    <tr style=\"text-align: right;\">\n",
       "      <th></th>\n",
       "      <th>YEnd Means</th>\n",
       "      <th>YEnd SD</th>\n",
       "      <th>YEnd Final Mean</th>\n",
       "      <th>YEnd Final SD</th>\n",
       "      <th>AngEnd Means</th>\n",
       "      <th>AngEnd SD</th>\n",
       "      <th>AngEnd Final Mean</th>\n",
       "      <th>AngEnd Final SD</th>\n",
       "    </tr>\n",
       "  </thead>\n",
       "  <tbody>\n",
       "    <tr>\n",
       "      <th>0</th>\n",
       "      <td>1.09</td>\n",
       "      <td>1.173267</td>\n",
       "      <td>2.5</td>\n",
       "      <td>1.41</td>\n",
       "      <td>0.58</td>\n",
       "      <td>0.370585</td>\n",
       "      <td>0.735</td>\n",
       "      <td>0.155</td>\n",
       "    </tr>\n",
       "    <tr>\n",
       "      <th>1</th>\n",
       "      <td>3.91</td>\n",
       "      <td>2.210807</td>\n",
       "      <td>2.5</td>\n",
       "      <td>1.41</td>\n",
       "      <td>0.89</td>\n",
       "      <td>0.474810</td>\n",
       "      <td>0.735</td>\n",
       "      <td>0.155</td>\n",
       "    </tr>\n",
       "  </tbody>\n",
       "</table>\n",
       "</div>"
      ],
      "text/plain": [
       "   YEnd Means   YEnd SD  YEnd Final Mean  YEnd Final SD  AngEnd Means  \\\n",
       "0        1.09  1.173267              2.5           1.41          0.58   \n",
       "1        3.91  2.210807              2.5           1.41          0.89   \n",
       "\n",
       "   AngEnd SD  AngEnd Final Mean  AngEnd Final SD  \n",
       "0   0.370585              0.735            0.155  \n",
       "1   0.474810              0.735            0.155  "
      ]
     },
     "execution_count": 19,
     "metadata": {},
     "output_type": "execute_result"
    }
   ],
   "source": [
    "print(names[0])\n",
    "print(tests[1])\n",
    "data2"
   ]
  },
  {
   "cell_type": "code",
   "execution_count": 20,
   "metadata": {},
   "outputs": [],
   "source": [
    "# you can convert everything to visual angle offset (within each trial and then found mean) within the table or in a separate table, maybe separate table will\n",
    "# look better in the end but up to you\n",
    "# formula from paper: \n",
    "    # vertical ocular misalignment = 180/pi * arctan(((pm - ps)*d)/pp)\n",
    "        # where pm-ps is yend, d is the distance between the head and the screen, and pp is the tablet's resolution in px/inch\n",
    "    # torsional = am\n",
    "        # where am is just angend"
   ]
  },
  {
   "cell_type": "code",
   "execution_count": null,
   "metadata": {},
   "outputs": [],
   "source": []
  }
 ],
 "metadata": {
  "kernelspec": {
   "display_name": "Python 3",
   "language": "python",
   "name": "python3"
  },
  "language_info": {
   "codemirror_mode": {
    "name": "ipython",
    "version": 3
   },
   "file_extension": ".py",
   "mimetype": "text/x-python",
   "name": "python",
   "nbconvert_exporter": "python",
   "pygments_lexer": "ipython3",
   "version": "3.8.3"
  }
 },
 "nbformat": 4,
 "nbformat_minor": 4
}
