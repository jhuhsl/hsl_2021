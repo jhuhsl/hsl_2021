{
 "cells": [
  {
   "cell_type": "code",
   "execution_count": 1,
   "metadata": {},
   "outputs": [],
   "source": [
    "import numpy as np\n",
    "import matplotlib.pyplot as plt\n",
    "import pandas as pd\n",
    "import os\n",
    "import glob\n",
    "from pathlib import Path\n",
    "from collections import namedtuple\n",
    "from scipy import stats\n",
    "\n",
    "#Prevents pandas from truncating data\n",
    "pd.set_option('display.max_rows', None)\n",
    "pd.set_option('display.max_columns', None)\n",
    "pd.set_option('display.width', None)\n",
    "pd.set_option('display.max_colwidth', None)\n",
    "\n",
    "%matplotlib inline"
   ]
  },
  {
   "cell_type": "code",
   "execution_count": 2,
   "metadata": {},
   "outputs": [],
   "source": [
    "#hard coding file pathways for first 2 tests (both VAN and TAN) for baseline and optivisor to variables\n",
    "base1VAN = pd.read_csv('Arjun-Data/Arjun Y lenses baseline 1_baseline_2021-03-13_21-04-01_VAN-Sitting_VER2.txt', skiprows=3, delim_whitespace=True,skipinitialspace=True)\n",
    "base1TAN = pd.read_csv('Arjun-Data/Arjun Y lenses baseline 1_baseline_2021-03-13_21-04-59_TAN-Sitting_VER2.txt', skiprows=3, delim_whitespace=True,skipinitialspace=True)\n",
    "base2VAN = pd.read_csv('Arjun-Data/Arjun Y lenses baseline 2_baseline_2021-03-13_21-06-52_VAN-Sitting_VER2.txt', skiprows=3, delim_whitespace=True,skipinitialspace=True)\n",
    "base2TAN = pd.read_csv('Arjun-Data/Arjun Y lenses baseline 2_baseline_2021-03-13_21-07-42_TAN-Sitting_VER2.txt', skiprows=3, delim_whitespace=True,skipinitialspace=True)\n",
    "base3VAN = pd.read_csv('Arjun-Data/Arjun Y lenses baseline 3_baseline_2021-03-13_21-09-29_VAN-Sitting_VER2.txt', skiprows=3, delim_whitespace=True,skipinitialspace=True)\n",
    "base3TAN = pd.read_csv('Arjun-Data/Arjun Y lenses baseline 3_baseline_2021-03-13_21-10-19_TAN-Sitting_VER2.txt', skiprows=3, delim_whitespace=True,skipinitialspace=True)\n",
    "base4VAN = pd.read_csv('Arjun-Data/Arjun Y lenses baseline 4_baseline_2021-03-13_21-11-53_VAN-Sitting_VER2.txt', skiprows=3, delim_whitespace=True,skipinitialspace=True)\n",
    "base4TAN = pd.read_csv('Arjun-Data/Arjun Y lenses baseline 4_baseline_2021-03-13_21-12-33_TAN-Sitting_VER2.txt', skiprows=3, delim_whitespace=True,skipinitialspace=True)\n",
    "base5VAN = pd.read_csv('Arjun-Data/Arjun Y lenses baseline 5_baseline_2021-03-13_21-13-50_VAN-Sitting_VER2.txt', skiprows=3, delim_whitespace=True,skipinitialspace=True)\n",
    "base5TAN = pd.read_csv('Arjun-Data/Arjun Y lenses baseline 5_baseline_2021-03-13_21-14-52_TAN-Sitting_VER2.txt', skiprows=3, delim_whitespace=True,skipinitialspace=True)\n",
    "base6VAN = pd.read_csv('Arjun-Data/Arjun Y lenses baseline 6_baseline_2021-03-14_22-22-23_VAN-Sitting_VER2.txt', skiprows=3, delim_whitespace=True,skipinitialspace=True)\n",
    "base6TAN = pd.read_csv('Arjun-Data/Arjun Y lenses baseline 6_baseline_2021-03-14_22-23-42_TAN-Sitting_VER2.txt', skiprows=3, delim_whitespace=True,skipinitialspace=True)\n",
    "base7VAN = pd.read_csv('Arjun-Data/Arjun Y lenses baseline 7_baseline_2021-03-14_22-26-20_VAN-Sitting_VER2.txt', skiprows=3, delim_whitespace=True,skipinitialspace=True)\n",
    "base7TAN = pd.read_csv('Arjun-Data/Arjun Y lenses baseline 7_baseline_2021-03-14_22-27-22_TAN-Sitting_VER2.txt', skiprows=3, delim_whitespace=True,skipinitialspace=True)\n",
    "base8VAN = pd.read_csv('Arjun-Data/Arjun Y lenses baseline 8_baseline_2021-03-14_22-29-32_VAN-Sitting_VER2.txt', skiprows=3, delim_whitespace=True,skipinitialspace=True)\n",
    "base8TAN = pd.read_csv('Arjun-Data/Arjun Y lenses baseline 8_baseline_2021-03-14_22-30-45_TAN-Sitting_VER2.txt', skiprows=3, delim_whitespace=True,skipinitialspace=True)\n",
    "base9VAN = pd.read_csv('Arjun-Data/Arjun Y lenses baseline 9_baseline_2021-03-14_22-32-28_VAN-Sitting_VER2.txt', skiprows=3, delim_whitespace=True,skipinitialspace=True)\n",
    "base9TAN = pd.read_csv('Arjun-Data/Arjun Y lenses baseline 9_baseline_2021-03-14_22-33-33_TAN-Sitting_VER2.txt', skiprows=3, delim_whitespace=True,skipinitialspace=True)\n",
    "base10VAN = pd.read_csv('Arjun-Data/Arjun Y lenses baseline 10_baseline_2021-03-14_22-34-59_VAN-Sitting_VER2.txt', skiprows=3, delim_whitespace=True,skipinitialspace=True)\n",
    "base10TAN = pd.read_csv('Arjun-Data/Arjun Y lenses baseline 10_baseline_2021-03-14_22-35-54_TAN-Sitting_VER2.txt', skiprows=3, delim_whitespace=True,skipinitialspace=True)\n",
    "\n",
    "\n",
    "opti1VAN = pd.read_csv('Arjun-Data/Arjun Y lenses optivisor 1_baseline_2021-03-13_21-35-01_VAN-Sitting_VER2.txt', skiprows=3, delim_whitespace=True,skipinitialspace=True)\n",
    "opti1TAN = pd.read_csv('Arjun-Data/Arjun Y lenses optivisor 1_baseline_2021-03-13_21-35-54_TAN-Sitting_VER2.txt', skiprows=3, delim_whitespace=True,skipinitialspace=True)\n",
    "opti2VAN = pd.read_csv('Arjun-Data/Arjun Y lenses optivisor 2_baseline_2021-03-13_21-36-58_VAN-Sitting_VER2.txt', skiprows=3, delim_whitespace=True,skipinitialspace=True)\n",
    "opti2TAN = pd.read_csv('Arjun-Data/Arjun Y lenses optivisor 2_baseline_2021-03-13_21-37-48_TAN-Sitting_VER2.txt', skiprows=3, delim_whitespace=True,skipinitialspace=True)\n",
    "opti3VAN = pd.read_csv('Arjun-Data/Arjun Y lenses optivisor 3_baseline_2021-03-13_21-39-34_VAN-Sitting_VER2.txt', skiprows=3, delim_whitespace=True,skipinitialspace=True)\n",
    "opti3TAN = pd.read_csv('Arjun-Data/Arjun Y lenses optivisor 3_baseline_2021-03-13_21-40-24_TAN-Sitting_VER2.txt', skiprows=3, delim_whitespace=True,skipinitialspace=True)\n",
    "opti4VAN = pd.read_csv('Arjun-Data/Arjun Y lenses optivisor 4_baseline_2021-03-13_21-42-30_VAN-Sitting_VER2.txt', skiprows=3, delim_whitespace=True,skipinitialspace=True)\n",
    "opti4TAN = pd.read_csv('Arjun-Data/Arjun Y lenses optivisor 4_baseline_2021-03-13_21-43-20_TAN-Sitting_VER2.txt', skiprows=3, delim_whitespace=True,skipinitialspace=True)\n",
    "opti5VAN = pd.read_csv('Arjun-Data/Arjun Y lenses optivisor 5_baseline_2021-03-13_21-45-34_VAN-Sitting_VER2.txt', skiprows=3, delim_whitespace=True,skipinitialspace=True)\n",
    "opti5TAN = pd.read_csv('Arjun-Data/Arjun Y lenses optivisor 5_baseline_2021-03-13_21-46-49_TAN-Sitting_VER2.txt', skiprows=3, delim_whitespace=True,skipinitialspace=True)\n",
    "opti6VAN = pd.read_csv('Arjun-Data/Arjun Y lenses optivisor 6_baseline_2021-03-14_22-37-45_VAN-Sitting_VER2.txt', skiprows=3, delim_whitespace=True,skipinitialspace=True)\n",
    "opti6TAN = pd.read_csv('Arjun-Data/Arjun Y lenses optivisor 6_baseline_2021-03-14_22-38-57_TAN-Sitting_VER2.txt', skiprows=3, delim_whitespace=True,skipinitialspace=True)\n",
    "opti7VAN = pd.read_csv('Arjun-Data/Arjun Y lenses optivisor 7_baseline_2021-03-14_22-41-43_VAN-Sitting_VER2.txt', skiprows=3, delim_whitespace=True,skipinitialspace=True)\n",
    "opti7TAN = pd.read_csv('Arjun-Data/Arjun Y lenses optivisor 7_baseline_2021-03-14_22-42-34_TAN-Sitting_VER2.txt', skiprows=3, delim_whitespace=True,skipinitialspace=True)\n",
    "opti8VAN = pd.read_csv('Arjun-Data/Arjun Y lenses optivisor 8_baseline_2021-03-14_22-44-34_VAN-Sitting_VER2.txt', skiprows=3, delim_whitespace=True,skipinitialspace=True)\n",
    "opti8TAN = pd.read_csv('Arjun-Data/Arjun Y lenses optivisor 8_baseline_2021-03-14_22-45-32_TAN-Sitting_VER2.txt', skiprows=3, delim_whitespace=True,skipinitialspace=True)\n",
    "opti9VAN = pd.read_csv('Arjun-Data/Arjun Y lenses optivisor 9_baseline_2021-03-14_22-47-08_VAN-Sitting_VER2.txt', skiprows=3, delim_whitespace=True,skipinitialspace=True)\n",
    "opti9TAN = pd.read_csv('Arjun-Data/Arjun Y lenses optivisor 9_baseline_2021-03-14_22-48-13_TAN-Sitting_VER2.txt', skiprows=3, delim_whitespace=True,skipinitialspace=True)\n",
    "opti10VAN = pd.read_csv('Arjun-Data/Arjun Y lenses optivisor 10_baseline_2021-03-14_22-49-40_VAN-Sitting_VER2.txt', skiprows=3, delim_whitespace=True,skipinitialspace=True)\n",
    "opti10TAN = pd.read_csv('Arjun-Data/Arjun Y lenses optivisor 10_baseline_2021-03-14_22-50-59_TAN-Sitting_VER2.txt', skiprows=3, delim_whitespace=True,skipinitialspace=True)"
   ]
  },
  {
   "cell_type": "code",
   "execution_count": 4,
   "metadata": {},
   "outputs": [
    {
     "ename": "SyntaxError",
     "evalue": "invalid syntax (<ipython-input-4-05d0488ce7f7>, line 42)",
     "output_type": "error",
     "traceback": [
      "\u001b[1;36m  File \u001b[1;32m\"<ipython-input-4-05d0488ce7f7>\"\u001b[1;36m, line \u001b[1;32m42\u001b[0m\n\u001b[1;33m    data1 = pd.DataFrame(data = baseStats)\u001b[0m\n\u001b[1;37m    ^\u001b[0m\n\u001b[1;31mSyntaxError\u001b[0m\u001b[1;31m:\u001b[0m invalid syntax\n"
     ]
    }
   ],
   "source": [
    "#Defines the participant names, and arrays (?) for the final stats (RMS = root mean square)\n",
    "names = [\"Arjun\"]\n",
    "tests = [\"Baseline\", \"Optivisor\", \"Overall Stats\"]\n",
    "\n",
    "#creating a dictionary of all the values I need for the table so I don't have to print stuff individually\n",
    "\n",
    "baseStats = {'YEnd Means': [base1VAN['YEnd'].mean(), base2VAN['YEnd'].mean(), base3VAN['YEnd'].mean(), base4VAN['YEnd'].mean(), base5VAN['YEnd'].mean(), base6VAN['YEnd'].mean(), base7VAN['YEnd'].mean(), base8VAN['YEnd'].mean(), base9VAN['YEnd'].mean(), base10VAN['YEnd'].mean()],\n",
    "             'YEnd SD': [base1VAN['YEnd'].std(), base2VAN['YEnd'].std(), base3VAN['YEnd'].std(), base4VAN['YEnd'].std() , base5VAN['YEnd'].std(), base6VAN['YEnd'].std(), base7VAN['YEnd'].std(), base8VAN['YEnd'].std(), base9VAN['YEnd'].std(), base10VAN['YEnd'].std()],\n",
    "             'YEnd Final Mean': 0,'YEnd Final SD': 0,\n",
    "             'AngEnd Means': [base1TAN['AngEnd'].mean(), base2TAN['AngEnd'].mean(), base3TAN['AngEnd'].mean(), base4TAN['AngEnd'].mean(), base5TAN['AngEnd'].mean(), base6TAN['AngEnd'].mean(), base7TAN['AngEnd'].mean(), base8TAN['AngEnd'].mean(), base9TAN['AngEnd'].mean(), base10TAN['AngEnd'].mean()], \n",
    "             'AngEnd SD': [base1TAN['AngEnd'].std(), base2TAN['AngEnd'].std(), base3TAN['AngEnd'].std(), base4TAN['AngEnd'].std(), base5TAN['AngEnd'].std(), base6TAN['AngEnd'].std(), base7TAN['AngEnd'].std(), base8TAN['AngEnd'].std(), base9TAN['AngEnd'].std(), base10TAN['AngEnd'].std()],\n",
    "             'AngEnd Final Mean': 0, 'AngEnd Final SD': 0}\n",
    "optiStats = {'YEnd Means': [opti1VAN['YEnd'].mean(), opti2VAN['YEnd'].mean(), opti3VAN['YEnd'].mean(), opti4VAN['YEnd'].mean(), opti5VAN['YEnd'].mean(), opti6VAN['YEnd'].mean(), opti7VAN['YEnd'].mean(), opti8VAN['YEnd'].mean(), opti9VAN['YEnd'].mean(), opti10VAN['YEnd'].mean()], \n",
    "             'YEnd SD': [opti1VAN['YEnd'].std(), opti2VAN['YEnd'].std(), opti3VAN['YEnd'].std(), opti4VAN['YEnd'].std(), opti5VAN['YEnd'].std(), opti6VAN['YEnd'].std(), opti7VAN['YEnd'].std(), opti8VAN['YEnd'].std(), opti9VAN['YEnd'].std(), opti10VAN['YEnd'].std()],\n",
    "             'YEnd Final Mean': 0,'YEnd Final SD': 0, \n",
    "             'AngEnd Means': [opti1TAN['AngEnd'].mean(), opti2TAN['AngEnd'].mean(), opti3TAN['AngEnd'].mean(), opti4TAN['AngEnd'].mean(), opti5TAN['AngEnd'].mean(), opti6TAN['AngEnd'].mean(), opti7TAN['AngEnd'].mean(), opti8TAN['AngEnd'].mean(), opti9TAN['AngEnd'].mean(), opti10TAN['AngEnd'].mean()],\n",
    "             'AngEnd SD': [opti1TAN['AngEnd'].std(), opti2TAN['AngEnd'].std(), opti3TAN['AngEnd'].std(), opti4TAN['AngEnd'].std(), opti5TAN['AngEnd'].std(), opti6TAN['AngEnd'].std(), opti7TAN['AngEnd'].std(), opti8TAN['AngEnd'].std(), opti9TAN['AngEnd'].std(), opti10TAN['AngEnd'].std()],\n",
    "             'AngEnd Final Mean': 0, 'AngEnd Final SD': 0}\n",
    "\n",
    "\n",
    "#Finding mean values for YEnd and AngEnd for both baseline and optivisor\n",
    "baseStats['YEnd Final Mean'] = np.mean(baseStats['YEnd Means'])\n",
    "baseStats['AngEnd Final Mean'] = np.mean(baseStats['AngEnd Means'])\n",
    "\n",
    "optiStats['YEnd Final Mean'] = np.mean(optiStats['YEnd Means'])\n",
    "optiStats['AngEnd Final Mean'] = np.mean(optiStats['AngEnd Means'])\n",
    "\n",
    "#Finding the final standard deviation based on the means of each trial\n",
    "baseStats['YEnd Final SD'] = np.std(baseStats['YEnd Means'])\n",
    "baseStats['AngEnd Final SD'] = np.std(baseStats['AngEnd Means'])\n",
    "\n",
    "optiStats['YEnd Final SD'] = np.std(optiStats['YEnd Means'])\n",
    "optiStats['AngEnd Final SD'] = np.std(optiStats['AngEnd Means'])\n",
    "\n",
    "#Creating dictionary of final stats\n",
    "finalStats = {'YEnd Final Means': [baseStats['YEnd Final Mean'], optiStats['YEnd Final Mean']],\n",
    "              'YEnd Final SD': [baseStats['YEnd Final SD'], optiStats['YEnd Final SD']],\n",
    "              'AngEnd Final Means': [baseStats['AngEnd Final Mean'], optiStats['AngEnd Final Mean']],\n",
    "              'AngEnd Final SD': [baseStats['AngEnd Final SD'], optiStats['AngEnd Final SD']]\n",
    "\n",
    "#defining the dataframes to later print as tables\n",
    "data1 = pd.DataFrame(data = baseStats)\n",
    "data2 = pd.DataFrame(data = optiStats)\n",
    "data3 = pd.DataFrame(data = finalStats)\n",
    "\n",
    "data1.index = [\"Trial 1\", \"Trial 2\", \"Trial 3\", \"Trial 4\", \"Trial 5\", \"Trial 6\", \"Trial 7\", \"Trial 8\", \"Trial 9\", \"Trial 10\"]\n",
    "data2.index = [\"Trial 1\", \"Trial 2\", \"Trial 3\", \"Trial 4\", \"Trial 5\", \"Trial 6\", \"Trial 7\", \"Trial 8\", \"Trial 9\", \"Trial 10\"]\n",
    "data3.index = [\"Baseline\", \"Optivisor\"]\n",
    "              \n",
    "# #Finding ocular misalignment\n",
    "# vertMis1 = []\n",
    "# vertMis2 = []\n",
    "\n",
    "# for i in range(10)\n",
    "#     ang1 = 180/math.pi * numpy.arctan((baseStats['YEnd'][i]*10)/215)\n",
    "#     ang2 = 180/math.pi * numpy.arctan((optiStats['YEnd'][i]*10)/215)\n",
    "#     vertMis1.apend(ang1)\n",
    "#     vertMis2.apend(ang2)"
   ]
  },
  {
   "cell_type": "markdown",
   "metadata": {},
   "source": [
    "## Variable Descriptions\n",
    "YEnd Means: Mean YEnd value for each trial (using VAN tests)\n",
    "<br>AngEnd Means: Mean AngEnd value for each trial (using TAN tests)\n",
    "<br>YEnd SD: Standard deviation of YEnd for each trial (using VAN tests)\n",
    "<br>AngEnd SD: Standard deviation of AngEnd for each trial (using TAN tests)\n",
    "<br>YEnd RMS: Gives the root mean squared of YEnd for all trials (using VAN tests)\n",
    "<br>AngEnd RMS: Gives the root mean squared of AngEnd for all trials (using TAN tests)\n",
    "<br>YEnd Final SD: Gives the standard deviation of the YEnd means for all trials (using VAN tests)\n",
    "<br>AngEnd Final SD: Give the standard deviation of the AngEnd means for all trials (using TAN tests)"
   ]
  },
  {
   "cell_type": "code",
   "execution_count": 9,
   "metadata": {},
   "outputs": [
    {
     "ename": "NameError",
     "evalue": "name 'names' is not defined",
     "output_type": "error",
     "traceback": [
      "\u001b[1;31m---------------------------------------------------------------------------\u001b[0m",
      "\u001b[1;31mNameError\u001b[0m                                 Traceback (most recent call last)",
      "\u001b[1;32m<ipython-input-9-2dcefcc59dd8>\u001b[0m in \u001b[0;36m<module>\u001b[1;34m\u001b[0m\n\u001b[1;32m----> 1\u001b[1;33m \u001b[0mprint\u001b[0m\u001b[1;33m(\u001b[0m\u001b[0mnames\u001b[0m\u001b[1;33m[\u001b[0m\u001b[1;36m0\u001b[0m\u001b[1;33m]\u001b[0m\u001b[1;33m)\u001b[0m\u001b[1;33m\u001b[0m\u001b[1;33m\u001b[0m\u001b[0m\n\u001b[0m\u001b[0;32m      2\u001b[0m \u001b[0mprint\u001b[0m\u001b[1;33m(\u001b[0m\u001b[0mtests\u001b[0m\u001b[1;33m[\u001b[0m\u001b[1;36m0\u001b[0m\u001b[1;33m]\u001b[0m\u001b[1;33m)\u001b[0m\u001b[1;33m\u001b[0m\u001b[1;33m\u001b[0m\u001b[0m\n\u001b[0;32m      3\u001b[0m \u001b[0mdata1\u001b[0m\u001b[1;33m\u001b[0m\u001b[1;33m\u001b[0m\u001b[0m\n\u001b[0;32m      4\u001b[0m \u001b[1;33m\u001b[0m\u001b[0m\n\u001b[0;32m      5\u001b[0m \u001b[1;31m# serena comments:\u001b[0m\u001b[1;33m\u001b[0m\u001b[1;33m\u001b[0m\u001b[1;33m\u001b[0m\u001b[0m\n",
      "\u001b[1;31mNameError\u001b[0m: name 'names' is not defined"
     ]
    }
   ],
   "source": [
    "print(names[0])\n",
    "print(tests[0])\n",
    "data1\n",
    "\n",
    "# serena comments:\n",
    "    # table looks really great! \n",
    "    # based on all the papers it seems like they just go with regular mean and SD, so you can get rid of the RMS and stuff (done)\n",
    "    # what is 0 and 1, try to specify the row nams\n",
    "    # everything else looks good, add a couple more lines to include the rest of your data so we can look at everything together\n",
    "    \n",
    "#Keep YEnd means, yend sd, yend final mean, yend final sd, angend means, angends sd, angend final mean, angend final sd (done)\n",
    "#extra table: baseline is first row and optivisor is second row; for each column: final means and sd"
   ]
  },
  {
   "cell_type": "code",
   "execution_count": 10,
   "metadata": {},
   "outputs": [
    {
     "ename": "NameError",
     "evalue": "name 'names' is not defined",
     "output_type": "error",
     "traceback": [
      "\u001b[1;31m---------------------------------------------------------------------------\u001b[0m",
      "\u001b[1;31mNameError\u001b[0m                                 Traceback (most recent call last)",
      "\u001b[1;32m<ipython-input-10-76b286f2639d>\u001b[0m in \u001b[0;36m<module>\u001b[1;34m\u001b[0m\n\u001b[1;32m----> 1\u001b[1;33m \u001b[0mprint\u001b[0m\u001b[1;33m(\u001b[0m\u001b[0mnames\u001b[0m\u001b[1;33m[\u001b[0m\u001b[1;36m0\u001b[0m\u001b[1;33m]\u001b[0m\u001b[1;33m)\u001b[0m\u001b[1;33m\u001b[0m\u001b[1;33m\u001b[0m\u001b[0m\n\u001b[0m\u001b[0;32m      2\u001b[0m \u001b[0mprint\u001b[0m\u001b[1;33m(\u001b[0m\u001b[0mtests\u001b[0m\u001b[1;33m[\u001b[0m\u001b[1;36m1\u001b[0m\u001b[1;33m]\u001b[0m\u001b[1;33m)\u001b[0m\u001b[1;33m\u001b[0m\u001b[1;33m\u001b[0m\u001b[0m\n\u001b[0;32m      3\u001b[0m \u001b[0mdata2\u001b[0m\u001b[1;33m\u001b[0m\u001b[1;33m\u001b[0m\u001b[0m\n",
      "\u001b[1;31mNameError\u001b[0m: name 'names' is not defined"
     ]
    }
   ],
   "source": [
    "print(names[0])\n",
    "print(tests[1])\n",
    "data2"
   ]
  },
  {
   "cell_type": "code",
   "execution_count": 11,
   "metadata": {},
   "outputs": [
    {
     "ename": "NameError",
     "evalue": "name 'names' is not defined",
     "output_type": "error",
     "traceback": [
      "\u001b[1;31m---------------------------------------------------------------------------\u001b[0m",
      "\u001b[1;31mNameError\u001b[0m                                 Traceback (most recent call last)",
      "\u001b[1;32m<ipython-input-11-066288f2d040>\u001b[0m in \u001b[0;36m<module>\u001b[1;34m\u001b[0m\n\u001b[1;32m----> 1\u001b[1;33m \u001b[0mprint\u001b[0m\u001b[1;33m(\u001b[0m\u001b[0mnames\u001b[0m\u001b[1;33m[\u001b[0m\u001b[1;36m0\u001b[0m\u001b[1;33m]\u001b[0m\u001b[1;33m)\u001b[0m\u001b[1;33m\u001b[0m\u001b[1;33m\u001b[0m\u001b[0m\n\u001b[0m\u001b[0;32m      2\u001b[0m \u001b[0mprint\u001b[0m\u001b[1;33m(\u001b[0m\u001b[0mtests\u001b[0m\u001b[1;33m[\u001b[0m\u001b[1;36m2\u001b[0m\u001b[1;33m]\u001b[0m\u001b[1;33m)\u001b[0m\u001b[1;33m\u001b[0m\u001b[1;33m\u001b[0m\u001b[0m\n\u001b[0;32m      3\u001b[0m \u001b[0mdata3\u001b[0m\u001b[1;33m\u001b[0m\u001b[1;33m\u001b[0m\u001b[0m\n",
      "\u001b[1;31mNameError\u001b[0m: name 'names' is not defined"
     ]
    }
   ],
   "source": [
    "print(names[0])\n",
    "print(tests[2])\n",
    "data3"
   ]
  },
  {
   "cell_type": "code",
   "execution_count": 7,
   "metadata": {},
   "outputs": [],
   "source": [
    "# you can convert everything to visual angle offset (within each trial and then found mean) within the table or in a separate table, maybe separate table will\n",
    "# look better in the end but up to you\n",
    "# formula from paper: \n",
    "    # vertical ocular misalignment = 180/pi * arctan(((pm - ps)*d)/pp)\n",
    "        # where pm-ps is yend, d is the distance between the head and the screen, and pp is the tablet's resolution in px/inch\n",
    "    # torsional = am\n",
    "        # where am is just angend"
   ]
  },
  {
   "cell_type": "code",
   "execution_count": null,
   "metadata": {},
   "outputs": [],
   "source": []
  }
 ],
 "metadata": {
  "kernelspec": {
   "display_name": "Python 3",
   "language": "python",
   "name": "python3"
  },
  "language_info": {
   "codemirror_mode": {
    "name": "ipython",
    "version": 3
   },
   "file_extension": ".py",
   "mimetype": "text/x-python",
   "name": "python",
   "nbconvert_exporter": "python",
   "pygments_lexer": "ipython3",
   "version": "3.8.3"
  }
 },
 "nbformat": 4,
 "nbformat_minor": 4
}
