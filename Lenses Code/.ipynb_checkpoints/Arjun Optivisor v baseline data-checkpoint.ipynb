{
 "cells": [
  {
   "cell_type": "code",
   "execution_count": 1,
   "metadata": {},
   "outputs": [],
   "source": [
    "import numpy as np\n",
    "import matplotlib.pyplot as plt\n",
    "import pandas as pd\n",
    "import os\n",
    "import glob\n",
    "from pathlib import Path\n",
    "from collections import namedtuple\n",
    "from scipy import stats\n",
    "\n",
    "#Prevents pandas from truncating data\n",
    "pd.set_option('display.max_rows', None)\n",
    "pd.set_option('display.max_columns', None)\n",
    "pd.set_option('display.width', None)\n",
    "pd.set_option('display.max_colwidth', None)\n",
    "\n",
    "%matplotlib inline"
   ]
  },
  {
   "cell_type": "code",
   "execution_count": 21,
   "metadata": {},
   "outputs": [],
   "source": [
    "#hard coding file pathways for first 2 tests (both VAN and TAN) for baseline and optivisor to variables\n",
    "base1VAN = pd.read_csv('Documents/Research/Arjun final test data/Arjun Y lenses baseline 1_baseline_2021-03-13_21-04-01_VAN-Sitting_VER2.txt', skiprows=3, delim_whitespace=True,skipinitialspace=True)\n",
    "base1TAN = pd.read_csv('Documents/Research/Arjun final test data/Arjun Y lenses baseline 1_baseline_2021-03-13_21-04-59_TAN-Sitting_VER2.txt', skiprows=3, delim_whitespace=True,skipinitialspace=True)\n",
    "base2VAN = pd.read_csv('Documents/Research/Arjun final test data/Arjun Y lenses baseline 2_baseline_2021-03-13_21-06-52_VAN-Sitting_VER2.txt', skiprows=3, delim_whitespace=True,skipinitialspace=True)\n",
    "base2TAN = pd.read_csv('Documents/Research/Arjun final test data/Arjun Y lenses baseline 2_baseline_2021-03-13_21-07-42_TAN-Sitting_VER2.txt', skiprows=3, delim_whitespace=True,skipinitialspace=True)\n",
    "\n",
    "opti1VAN = pd.read_csv('Documents/Research/Arjun final test data/Arjun Y lenses optivisor 1_baseline_2021-03-13_21-35-01_VAN-Sitting_VER2.txt', skiprows=3, delim_whitespace=True,skipinitialspace=True)\n",
    "opti1TAN = pd.read_csv('Documents/Research/Arjun final test data/Arjun Y lenses optivisor 1_baseline_2021-03-13_21-35-54_TAN-Sitting_VER2.txt', skiprows=3, delim_whitespace=True,skipinitialspace=True)\n",
    "opti2VAN = pd.read_csv('Documents/Research/Arjun final test data/Arjun Y lenses optivisor 2_baseline_2021-03-13_21-36-58_VAN-Sitting_VER2.txt', skiprows=3, delim_whitespace=True,skipinitialspace=True)\n",
    "opti2TAN = pd.read_csv('Documents/Research/Arjun final test data/Arjun Y lenses optivisor 2_baseline_2021-03-13_21-37-48_TAN-Sitting_VER2.txt', skiprows=3, delim_whitespace=True,skipinitialspace=True)"
   ]
  },
  {
   "cell_type": "code",
   "execution_count": 69,
   "metadata": {},
   "outputs": [],
   "source": [
    "#Defines the participant names, and arrays (?) for the final stats (RMS = root mean square)\n",
    "names = [\"Arjun\"]\n",
    "tests = [\"baseline\", \"optivisor\"]\n",
    "\n",
    "#creating a library of all the values I need for the table so I don't have to print stuff individually\n",
    "\n",
    "baseStats = {'YEnd Means': [base1VAN['YEnd'].mean(), base2VAN['YEnd'].mean()],\n",
    "             'AngEnd Means': [base1TAN['AngEnd'].mean(), base2TAN['AngEnd'].mean()], \n",
    "             'YEnd SD': [base1VAN['YEnd'].mean(), base2VAN['YEnd'].mean()],\n",
    "             'AngEnd SD': [base1TAN['AngEnd'].mean(), base2TAN['AngEnd'].mean()],\n",
    "             'YEnd RMS': 0, 'AngEnd RMS': 0, \n",
    "             'YEnd Final SD': 0, 'AngEnd Final SD': 0}\n",
    "optiStats = {'YEnd Means': [opti1VAN['YEnd'].mean(), opti2VAN['YEnd'].mean()], \n",
    "             'AngEnd Means': [opti1TAN['AngEnd'].mean(), opti2TAN['AngEnd'].mean()],\n",
    "             'YEnd SD': [opti1VAN['YEnd'].std(), opti2VAN['YEnd'].std()],\n",
    "             'AngEnd SD': [opti1TAN['AngEnd'].std(), opti2TAN['AngEnd'].std()],\n",
    "             'YEnd RMS': 0, 'AngEnd RMS': 0, \n",
    "             'YEnd Final SD': 0, 'AngEnd Final SD': 0}\n",
    "\n",
    "#Finding root means square values for YEnd and AngEnd for both baseline and optivisor\n",
    "baseStats['YEnd RMS'] = np.sqrt(base1VAN['YEnd'].pow(2).mean() + base2VAN['YEnd'].pow(2).mean())\n",
    "baseStats['AngEnd RMS'] = np.sqrt(base1TAN['AngEnd'].pow(2).mean() + base2TAN['AngEnd'].pow(2).mean())\n",
    "\n",
    "optiStats['YEnd RMS'] = np.sqrt(opti1VAN['YEnd'].pow(2).mean() + opti2VAN['YEnd'].pow(2).mean())\n",
    "optiStats['AngEnd RMS'] = np.sqrt(opti1TAN['AngEnd'].pow(2).mean() + opti2TAN['AngEnd'].pow(2).mean())\n",
    "\n",
    "#Finding the final standard deviation based on the means of each trial\n",
    "baseStats['YEnd Final SD'] = np.std(baseStats['YEnd Means'])\n",
    "baseStats['AngEnd Final SD'] = np.std(baseStats['AngEnd Means'])\n",
    "\n",
    "optiStats['YEnd Final SD'] = np.std(optiStats['YEnd Means'])\n",
    "optiStats['AngEnd Final SD'] = np.std(optiStats['AngEnd Means'])\n",
    "\n",
    "#defining the dataframes to later print as tables\n",
    "data1 = pd.DataFrame(data = baseStats)\n",
    "data2 = pd.DataFrame(data = optiStats)"
   ]
  },
  {
   "cell_type": "markdown",
   "metadata": {},
   "source": [
    "## Variable Descriptions\n",
    "YEnd Means: Mean YEnd value for each trial (using VAN tests)\n",
    "<br>AngEnd Means: Mean AngEnd value for each trial (using TAN tests)\n",
    "<br>YEnd SD: Standard deviation of YEnd for each trial (using VAN tests)\n",
    "<br>AngEnd SD: Standard deviation of AngEnd for each trial (using TAN tests)\n",
    "<br>YEnd RMS: Gives the root mean squared of YEnd for all trials (using VAN tests)\n",
    "<br>AngEnd RMS: Gives the root mean squared of AngEnd for all trials (using TAN tests)\n",
    "<br>YEnd Final SD: Gives the standard deviation of the YEnd means for all trials (using VAN tests)\n",
    "<br>AngEnd Final SD: Give the standard deviation of the AngEnd means for all trials (using TAN tests)"
   ]
  },
  {
   "cell_type": "code",
   "execution_count": 68,
   "metadata": {},
   "outputs": [
    {
     "name": "stdout",
     "output_type": "stream",
     "text": [
      "Arjun\n",
      "baseline\n"
     ]
    },
    {
     "data": {
      "text/html": [
       "<div>\n",
       "<style scoped>\n",
       "    .dataframe tbody tr th:only-of-type {\n",
       "        vertical-align: middle;\n",
       "    }\n",
       "\n",
       "    .dataframe tbody tr th {\n",
       "        vertical-align: top;\n",
       "    }\n",
       "\n",
       "    .dataframe thead th {\n",
       "        text-align: right;\n",
       "    }\n",
       "</style>\n",
       "<table border=\"1\" class=\"dataframe\">\n",
       "  <thead>\n",
       "    <tr style=\"text-align: right;\">\n",
       "      <th></th>\n",
       "      <th>YEnd Means</th>\n",
       "      <th>AngEnd Means</th>\n",
       "      <th>YEnd SD</th>\n",
       "      <th>AngEnd SD</th>\n",
       "      <th>YEnd RMS</th>\n",
       "      <th>AngEnd RMS</th>\n",
       "      <th>YEnd Final SD</th>\n",
       "      <th>AngEnd Final SD</th>\n",
       "    </tr>\n",
       "  </thead>\n",
       "  <tbody>\n",
       "    <tr>\n",
       "      <th>0</th>\n",
       "      <td>1.8</td>\n",
       "      <td>0.14</td>\n",
       "      <td>1.8</td>\n",
       "      <td>0.14</td>\n",
       "      <td>3.534119</td>\n",
       "      <td>0.664078</td>\n",
       "      <td>0.3</td>\n",
       "      <td>0.185</td>\n",
       "    </tr>\n",
       "    <tr>\n",
       "      <th>1</th>\n",
       "      <td>2.4</td>\n",
       "      <td>0.51</td>\n",
       "      <td>2.4</td>\n",
       "      <td>0.51</td>\n",
       "      <td>3.534119</td>\n",
       "      <td>0.664078</td>\n",
       "      <td>0.3</td>\n",
       "      <td>0.185</td>\n",
       "    </tr>\n",
       "  </tbody>\n",
       "</table>\n",
       "</div>"
      ],
      "text/plain": [
       "   YEnd Means  AngEnd Means  YEnd SD  AngEnd SD  YEnd RMS  AngEnd RMS  \\\n",
       "0         1.8          0.14      1.8       0.14  3.534119    0.664078   \n",
       "1         2.4          0.51      2.4       0.51  3.534119    0.664078   \n",
       "\n",
       "   YEnd Final SD  AngEnd Final SD  \n",
       "0            0.3            0.185  \n",
       "1            0.3            0.185  "
      ]
     },
     "execution_count": 68,
     "metadata": {},
     "output_type": "execute_result"
    }
   ],
   "source": [
    "print(names[0])\n",
    "print(tests[0])\n",
    "data1"
   ]
  },
  {
   "cell_type": "code",
   "execution_count": 64,
   "metadata": {},
   "outputs": [
    {
     "name": "stdout",
     "output_type": "stream",
     "text": [
      "Arjun\n",
      "optivisor\n"
     ]
    },
    {
     "data": {
      "text/html": [
       "<div>\n",
       "<style scoped>\n",
       "    .dataframe tbody tr th:only-of-type {\n",
       "        vertical-align: middle;\n",
       "    }\n",
       "\n",
       "    .dataframe tbody tr th {\n",
       "        vertical-align: top;\n",
       "    }\n",
       "\n",
       "    .dataframe thead th {\n",
       "        text-align: right;\n",
       "    }\n",
       "</style>\n",
       "<table border=\"1\" class=\"dataframe\">\n",
       "  <thead>\n",
       "    <tr style=\"text-align: right;\">\n",
       "      <th></th>\n",
       "      <th>YEnd Means</th>\n",
       "      <th>AngEnd Means</th>\n",
       "      <th>YEnd SD</th>\n",
       "      <th>AngEnd SD</th>\n",
       "      <th>YEnd RMS</th>\n",
       "      <th>AngEnd RMS</th>\n",
       "      <th>YEnd Final SD</th>\n",
       "      <th>AngEnd Final SD</th>\n",
       "    </tr>\n",
       "  </thead>\n",
       "  <tbody>\n",
       "    <tr>\n",
       "      <th>0</th>\n",
       "      <td>1.09</td>\n",
       "      <td>0.58</td>\n",
       "      <td>1.173267</td>\n",
       "      <td>0.370585</td>\n",
       "      <td>4.702552</td>\n",
       "      <td>1.206234</td>\n",
       "      <td>1.41</td>\n",
       "      <td>0.155</td>\n",
       "    </tr>\n",
       "    <tr>\n",
       "      <th>1</th>\n",
       "      <td>3.91</td>\n",
       "      <td>0.89</td>\n",
       "      <td>2.210807</td>\n",
       "      <td>0.474810</td>\n",
       "      <td>4.702552</td>\n",
       "      <td>1.206234</td>\n",
       "      <td>1.41</td>\n",
       "      <td>0.155</td>\n",
       "    </tr>\n",
       "  </tbody>\n",
       "</table>\n",
       "</div>"
      ],
      "text/plain": [
       "   YEnd Means  AngEnd Means   YEnd SD  AngEnd SD  YEnd RMS  AngEnd RMS  \\\n",
       "0        1.09          0.58  1.173267   0.370585  4.702552    1.206234   \n",
       "1        3.91          0.89  2.210807   0.474810  4.702552    1.206234   \n",
       "\n",
       "   YEnd Final SD  AngEnd Final SD  \n",
       "0           1.41            0.155  \n",
       "1           1.41            0.155  "
      ]
     },
     "execution_count": 64,
     "metadata": {},
     "output_type": "execute_result"
    }
   ],
   "source": [
    "print(names[0])\n",
    "print(tests[1])\n",
    "data2"
   ]
  },
  {
   "cell_type": "code",
   "execution_count": null,
   "metadata": {},
   "outputs": [],
   "source": []
  }
 ],
 "metadata": {
  "kernelspec": {
   "display_name": "Python 3",
   "language": "python",
   "name": "python3"
  },
  "language_info": {
   "codemirror_mode": {
    "name": "ipython",
    "version": 3
   },
   "file_extension": ".py",
   "mimetype": "text/x-python",
   "name": "python",
   "nbconvert_exporter": "python",
   "pygments_lexer": "ipython3",
   "version": "3.7.6"
  }
 },
 "nbformat": 4,
 "nbformat_minor": 4
}
