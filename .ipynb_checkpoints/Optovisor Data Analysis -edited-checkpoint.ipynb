{
 "cells": [
  {
   "cell_type": "code",
   "execution_count": 2,
   "metadata": {},
   "outputs": [],
   "source": [
    "import numpy as np\n",
    "import matplotlib.pyplot as plt\n",
    "import pandas as pd\n",
    "import os\n",
    "\n",
    "#Prevents pandas from truncating data\n",
    "pd.set_option('display.max_rows', None)\n",
    "pd.set_option('display.max_columns', None)\n",
    "pd.set_option('display.width', None)\n",
    "pd.set_option('display.max_colwidth', None)\n",
    "\n",
    "%matplotlib inline\n",
    "\n",
    "#editing arjun's code\n",
    "# lots of editing going on"
   ]
  },
  {
   "cell_type": "code",
   "execution_count": 84,
   "metadata": {},
   "outputs": [
    {
     "name": "stdout",
     "output_type": "stream",
     "text": [
      "       TrialNum     YStart   AngStart       YEnd     AngEnd\n",
      "count  10.00000  10.000000  10.000000  10.000000  10.000000\n",
      "mean    5.50000  22.680000   2.920000   5.310000   0.690000\n",
      "std     3.02765  44.629557   5.771154  13.965708   1.794095\n",
      "min     1.00000 -61.700000  -8.000000  -3.300000  -0.400000\n",
      "25%     3.25000   2.100000   0.300000  -0.050000   0.000000\n",
      "50%     5.50000  30.200000   3.900000   1.500000   0.200000\n",
      "75%     7.75000  50.025000   6.425000   3.075000   0.375000\n",
      "max    10.00000  77.400000  10.000000  44.300000   5.700000\n",
      "       TrialNum     YStart   AngStart       YEnd     AngEnd\n",
      "count  10.00000  10.000000  10.000000  10.000000  10.000000\n",
      "mean    5.50000  19.090000   2.460000  13.380000   1.730000\n",
      "std     3.02765  48.318376   6.234171  16.936929   2.181768\n",
      "min     1.00000 -64.800000  -8.400000   3.600000   0.500000\n",
      "25%     3.25000 -13.075000  -1.700000   5.600000   0.725000\n",
      "50%     5.50000  38.250000   4.950000   8.050000   1.050000\n",
      "75%     7.75000  55.725000   7.175000  12.225000   1.575000\n",
      "max    10.00000  68.800000   8.900000  60.500000   7.800000\n"
     ]
    }
   ],
   "source": [
    "#Data from optivisior with fitted film\n",
    "data1 = pd.read_csv('Arjun Y lenses optivisor fitted film_baseline_2021-03-09_22-08-04_VAN-Sitting_VER2.txt', skiprows=3, delim_whitespace=True,skipinitialspace=True)\n",
    "data2 = pd.read_csv('Arjun Y lenses optivisor fitted film_baseline_2021-03-09_22-08-53_TAN-Sitting_VER2.txt', skiprows=3, delim_whitespace=True,skipinitialspace=True)\n",
    "\n",
    "optiLenseFittedVAN = pd.DataFrame(data1)\n",
    "optiLenseFittedTAN = pd.DataFrame(data2)\n",
    "\n",
    "print(optiLenseFittedVAN.describe())\n",
    "print(optiLenseFittedTAN.describe())\n",
    "\n",
    "#print(data1)\n",
    "\n"
   ]
  },
  {
   "cell_type": "code",
   "execution_count": 85,
   "metadata": {},
   "outputs": [
    {
     "name": "stdout",
     "output_type": "stream",
     "text": [
      "       TrialNum   YStart   AngStart       YEnd    AngEnd\n",
      "count  10.00000  10.0000  10.000000  10.000000  10.00000\n",
      "mean    5.50000 -11.9500  -1.540000   2.160000   0.27000\n",
      "std     3.02765  46.5768   6.017235   6.906229   0.89697\n",
      "min     1.00000 -72.2000  -9.300000  -2.400000  -0.30000\n",
      "25%     3.25000 -52.8250  -6.850000  -0.175000   0.00000\n",
      "50%     5.50000 -18.0500  -2.300000   0.350000   0.00000\n",
      "75%     7.75000  19.7750   2.575000   0.875000   0.10000\n",
      "max    10.00000  57.9000   7.500000  21.600000   2.80000\n",
      "\n",
      "       TrialNum     YStart   AngStart       YEnd     AngEnd\n",
      "count  10.00000  10.000000  10.000000  10.000000  10.000000\n",
      "mean    5.50000  11.330000   1.460000   0.140000   0.020000\n",
      "std     3.02765  36.260111   4.678366   2.705221   0.352136\n",
      "min     1.00000 -58.800000  -7.600000  -3.200000  -0.400000\n",
      "25%     3.25000 -14.400000  -1.850000  -2.100000  -0.300000\n",
      "50%     5.50000  28.050000   3.600000   0.150000   0.000000\n",
      "75%     7.75000  37.700000   4.875000   2.175000   0.325000\n",
      "max    10.00000  46.200000   6.000000   4.900000   0.600000\n"
     ]
    }
   ],
   "source": [
    "#Data from optivisor with taped film\n",
    "data3 = pd.read_csv('Arjun Y lenses optivisor film 1_baseline_2021-03-06_21-18-35_VAN-Sitting_VER2.txt',skiprows=3, delim_whitespace=True,skipinitialspace=True)\n",
    "data4 = pd.read_csv('Arjun Y lenses optivisor film 1_baseline_2021-03-06_21-19-21_TAN-Sitting_VER2.txt', skiprows=3,delim_whitespace=True,skipinitialspace=True)\n",
    "\n",
    "#data1 = pd.DataFrame(data1)\n",
    "optiLenseFittedVAN = pd.DataFrame(data3)\n",
    "optiLenseFittedTAN = pd.DataFrame(data4)\n",
    "#print(data1)\n",
    "\n",
    "\n",
    "\n",
    "print(optiLenseFittedVAN.describe(), end = '\\n\\n')\n",
    "print(optiLenseFittedTAN.describe())"
   ]
  },
  {
   "cell_type": "code",
   "execution_count": 86,
   "metadata": {},
   "outputs": [
    {
     "name": "stdout",
     "output_type": "stream",
     "text": [
      "       TrialNum     YStart   AngStart       YEnd     AngEnd\n",
      "count  10.00000  10.000000  10.000000  10.000000  10.000000\n",
      "mean    5.50000 -10.660000  -1.390000   3.020000   0.370000\n",
      "std     3.02765  39.393604   5.070711   6.134384   0.791693\n",
      "min     1.00000 -74.500000  -9.600000  -0.500000  -0.100000\n",
      "25%     3.25000 -26.500000  -3.425000   0.700000   0.100000\n",
      "50%     5.50000  -1.900000  -0.250000   1.250000   0.150000\n",
      "75%     7.75000   6.750000   0.825000   1.875000   0.200000\n",
      "max    10.00000  61.600000   7.900000  20.300000   2.600000\n",
      "\n",
      "       TrialNum     YStart   AngStart       YEnd     AngEnd\n",
      "count  10.00000  10.000000  10.000000  10.000000  10.000000\n",
      "mean    5.50000 -17.020000  -2.190000   4.510000   0.590000\n",
      "std     3.02765  43.723647   5.632929  17.330862   2.230819\n",
      "min     1.00000 -66.100000  -8.500000  -5.000000  -0.600000\n",
      "25%     3.25000 -50.800000  -6.525000  -1.800000  -0.200000\n",
      "50%     5.50000 -24.750000  -3.200000   0.250000   0.000000\n",
      "75%     7.75000  -1.650000  -0.250000   0.850000   0.100000\n",
      "max    10.00000  68.000000   8.800000  53.500000   6.900000\n"
     ]
    }
   ],
   "source": [
    "#Data from original glasses\n",
    "data5 = pd.read_csv('Arjun Y lenses glasses_baseline_2021-03-06_20-34-00_VAN-Sitting_VER2.txt', skiprows=3,delim_whitespace=True,skipinitialspace=True)\n",
    "data6 = pd.read_csv('Arjun Y lenses glasses_baseline_2021-03-06_20-35-04_TAN-Sitting_VER2.txt', skiprows=3,delim_whitespace=True,skipinitialspace=True)\n",
    "\n",
    "optiLenseFittedVAN = pd.DataFrame(data5)\n",
    "optiLenseFittedTAN = pd.DataFrame(data6)\n",
    "\n",
    "print(optiLenseFittedVAN.describe(), end = '\\n\\n')\n",
    "print(optiLenseFittedTAN.describe())"
   ]
  },
  {
   "cell_type": "code",
   "execution_count": null,
   "metadata": {},
   "outputs": [],
   "source": []
  }
 ],
 "metadata": {
  "kernelspec": {
   "display_name": "Python 3",
   "language": "python",
   "name": "python3"
  },
  "language_info": {
   "codemirror_mode": {
    "name": "ipython",
    "version": 3
   },
   "file_extension": ".py",
   "mimetype": "text/x-python",
   "name": "python",
   "nbconvert_exporter": "python",
   "pygments_lexer": "ipython3",
   "version": "3.7.6"
  }
 },
 "nbformat": 4,
 "nbformat_minor": 4
}
